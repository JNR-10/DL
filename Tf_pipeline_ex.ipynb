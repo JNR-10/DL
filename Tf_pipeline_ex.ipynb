{
 "cells": [
  {
   "cell_type": "code",
   "execution_count": null,
   "id": "5c43bb3b",
   "metadata": {},
   "outputs": [],
   "source": [
    "\"\"\"\n",
    "Moview reviews are present as individual text file (one file per review) in review folder. \n",
    "\n",
    "Folder structure looks like this,\n",
    "\n",
    "reviews\n",
    "\n",
    "    |__ positive\n",
    "        |__pos_1.txt\n",
    "        |__pos_2.txt\n",
    "        |__pos_3.txt\n",
    "    |__ negative\n",
    "        |__neg_1.txt\n",
    "        |__neg_2.txt\n",
    "        |__neg_3.txt\n",
    "   \n",
    "You need to read these reviews using tf.data.Dataset and perform following transformations,\n",
    "\n",
    "(1) Read text review and generate a label from folder name. your dataset should have review text and label as a tuple\n",
    "\n",
    "(2) Filter blank text review. Two files are blank in this dataset\n",
    "\n",
    "(3) Do all of the above transformations in single line of code. Also shuffle all the reviews\n",
    "\"\"\""
   ]
  },
  {
   "cell_type": "code",
   "execution_count": 1,
   "id": "12d4a42c",
   "metadata": {},
   "outputs": [
    {
     "name": "stderr",
     "output_type": "stream",
     "text": [
      "2023-06-02 21:31:03.205004: I tensorflow/core/platform/cpu_feature_guard.cc:182] This TensorFlow binary is optimized to use available CPU instructions in performance-critical operations.\n",
      "To enable the following instructions: AVX2 FMA, in other operations, rebuild TensorFlow with the appropriate compiler flags.\n"
     ]
    }
   ],
   "source": [
    "import tensorflow as tf"
   ]
  },
  {
   "cell_type": "code",
   "execution_count": 2,
   "id": "71486abf",
   "metadata": {},
   "outputs": [],
   "source": [
    "reviews_ds = tf.data.Dataset.list_files('reviews/*/*', shuffle=False)"
   ]
  },
  {
   "cell_type": "code",
   "execution_count": 3,
   "id": "fb393fc0",
   "metadata": {},
   "outputs": [
    {
     "name": "stdout",
     "output_type": "stream",
     "text": [
      "b'reviews/negative/neg_1.txt'\n",
      "b'reviews/negative/neg_2.txt'\n",
      "b'reviews/negative/neg_3.txt'\n",
      "b'reviews/positive/pos_1.txt'\n",
      "b'reviews/positive/pos_2.txt'\n",
      "b'reviews/positive/pos_3.txt'\n"
     ]
    },
    {
     "name": "stderr",
     "output_type": "stream",
     "text": [
      "2023-06-02 21:31:20.153364: I tensorflow/core/common_runtime/executor.cc:1197] [/device:CPU:0] (DEBUG INFO) Executor start aborting (this does not indicate an error and you can ignore this message): INVALID_ARGUMENT: You must feed a value for placeholder tensor 'Placeholder/_0' with dtype string and shape [6]\n",
      "\t [[{{node Placeholder/_0}}]]\n"
     ]
    }
   ],
   "source": [
    "for file in reviews_ds:\n",
    "    print(file.numpy())"
   ]
  },
  {
   "cell_type": "code",
   "execution_count": 4,
   "id": "2acdedab",
   "metadata": {},
   "outputs": [],
   "source": [
    "# Extract review text from these files. Extract label from folder name\n",
    "\n",
    "import os\n",
    "def extract_review_and_label(file_path):\n",
    "    return tf.io.read_file(file_path), tf.strings.split(file_path, os.path.sep)[-2]"
   ]
  },
  {
   "cell_type": "code",
   "execution_count": 5,
   "id": "3fe86665",
   "metadata": {},
   "outputs": [
    {
     "name": "stdout",
     "output_type": "stream",
     "text": [
      "Review:  b\"Basically there's a family where a little boy (Jak\"\n",
      "Label:  b'negative'\n",
      "Review:  b'This show was an amazing, fresh & innovative idea '\n",
      "Label:  b'negative'\n",
      "Review:  b''\n",
      "Label:  b'negative'\n",
      "Review:  b'One of the other reviewers has mentioned that afte'\n",
      "Label:  b'positive'\n",
      "Review:  b'A wonderful little production. <br /><br />The fil'\n",
      "Label:  b'positive'\n",
      "Review:  b''\n",
      "Label:  b'positive'\n"
     ]
    },
    {
     "name": "stderr",
     "output_type": "stream",
     "text": [
      "2023-06-02 21:31:59.830763: I tensorflow/core/common_runtime/executor.cc:1197] [/device:CPU:0] (DEBUG INFO) Executor start aborting (this does not indicate an error and you can ignore this message): INVALID_ARGUMENT: You must feed a value for placeholder tensor 'Placeholder/_0' with dtype string and shape [6]\n",
      "\t [[{{node Placeholder/_0}}]]\n"
     ]
    }
   ],
   "source": [
    "reviews_ds_1 = reviews_ds.map(extract_review_and_label)\n",
    "for review, label in reviews_ds_1:\n",
    "    print(\"Review: \",review.numpy()[:50])\n",
    "    print(\"Label: \",label.numpy())"
   ]
  },
  {
   "cell_type": "code",
   "execution_count": 6,
   "id": "d9150d28",
   "metadata": {},
   "outputs": [
    {
     "name": "stdout",
     "output_type": "stream",
     "text": [
      "Review:  b\"Basically there's a family where a little boy (Jak\"\n",
      "Label:  b'negative'\n",
      "Review:  b'This show was an amazing, fresh & innovative idea '\n",
      "Label:  b'negative'\n",
      "Review:  b'One of the other reviewers has mentioned that afte'\n",
      "Label:  b'positive'\n",
      "Review:  b'A wonderful little production. <br /><br />The fil'\n",
      "Label:  b'positive'\n"
     ]
    },
    {
     "name": "stderr",
     "output_type": "stream",
     "text": [
      "2023-06-02 21:32:20.921041: I tensorflow/core/common_runtime/executor.cc:1197] [/device:CPU:0] (DEBUG INFO) Executor start aborting (this does not indicate an error and you can ignore this message): INVALID_ARGUMENT: You must feed a value for placeholder tensor 'Placeholder/_0' with dtype string and shape [6]\n",
      "\t [[{{node Placeholder/_0}}]]\n"
     ]
    }
   ],
   "source": [
    "# Filter blank reviews\n",
    "\n",
    "reviews_ds_2 = reviews_ds_1.filter(lambda review, label: review!=\"\")\n",
    "for review, label in reviews_ds_2.as_numpy_iterator():\n",
    "    print(\"Review: \",review[:50])\n",
    "    print(\"Label: \",label)"
   ]
  },
  {
   "cell_type": "code",
   "execution_count": 7,
   "id": "daded70e",
   "metadata": {},
   "outputs": [
    {
     "name": "stdout",
     "output_type": "stream",
     "text": [
      "Review: b'One of the other reviewers has mentioned that afte'\n",
      "Label: b'positive'\n",
      "Review: b\"Basically there's a family where a little boy (Jak\"\n",
      "Label: b'negative'\n",
      "Review: b'A wonderful little production. <br /><br />The fil'\n",
      "Label: b'positive'\n",
      "Review: b'This show was an amazing, fresh & innovative idea '\n",
      "Label: b'negative'\n"
     ]
    },
    {
     "name": "stderr",
     "output_type": "stream",
     "text": [
      "2023-06-02 21:32:44.328202: I tensorflow/core/common_runtime/executor.cc:1197] [/device:CPU:0] (DEBUG INFO) Executor start aborting (this does not indicate an error and you can ignore this message): INVALID_ARGUMENT: You must feed a value for placeholder tensor 'Placeholder/_0' with dtype string and shape [6]\n",
      "\t [[{{node Placeholder/_0}}]]\n",
      "2023-06-02 21:32:44.328500: I tensorflow/core/common_runtime/executor.cc:1197] [/device:CPU:0] (DEBUG INFO) Executor start aborting (this does not indicate an error and you can ignore this message): INVALID_ARGUMENT: You must feed a value for placeholder tensor 'Placeholder/_0' with dtype string and shape [6]\n",
      "\t [[{{node Placeholder/_0}}]]\n"
     ]
    }
   ],
   "source": [
    "# Perform map, filter and shuffle in single ine of code\n",
    "\n",
    "final_ds = reviews_ds.map(extract_review_and_label).filter(lambda review, label: review!=\"\").shuffle(3)\n",
    "for review, label in final_ds.as_numpy_iterator():\n",
    "    print(\"Review:\",review[:50])\n",
    "    print(\"Label:\",label)"
   ]
  },
  {
   "cell_type": "code",
   "execution_count": null,
   "id": "80102b3d",
   "metadata": {},
   "outputs": [],
   "source": []
  }
 ],
 "metadata": {
  "kernelspec": {
   "display_name": "Python 3 (ipykernel)",
   "language": "python",
   "name": "python3"
  },
  "language_info": {
   "codemirror_mode": {
    "name": "ipython",
    "version": 3
   },
   "file_extension": ".py",
   "mimetype": "text/x-python",
   "name": "python",
   "nbconvert_exporter": "python",
   "pygments_lexer": "ipython3",
   "version": "3.11.1"
  }
 },
 "nbformat": 4,
 "nbformat_minor": 5
}
