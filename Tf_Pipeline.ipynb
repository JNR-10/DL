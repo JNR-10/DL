{
 "cells": [
  {
   "cell_type": "code",
   "execution_count": 1,
   "id": "932b557b",
   "metadata": {},
   "outputs": [
    {
     "name": "stderr",
     "output_type": "stream",
     "text": [
      "2023-06-02 21:13:41.135617: I tensorflow/core/platform/cpu_feature_guard.cc:182] This TensorFlow binary is optimized to use available CPU instructions in performance-critical operations.\n",
      "To enable the following instructions: AVX2 FMA, in other operations, rebuild TensorFlow with the appropriate compiler flags.\n"
     ]
    }
   ],
   "source": [
    "import tensorflow as tf"
   ]
  },
  {
   "cell_type": "code",
   "execution_count": 2,
   "id": "d5618ebf",
   "metadata": {},
   "outputs": [
    {
     "data": {
      "text/plain": [
       "<_TensorSliceDataset element_spec=TensorSpec(shape=(), dtype=tf.int32, name=None)>"
      ]
     },
     "execution_count": 2,
     "metadata": {},
     "output_type": "execute_result"
    }
   ],
   "source": [
    "daily_sales_numbers = [21, 22, -108, 31, -1, 32, 34,31]\n",
    "\n",
    "tf_dataset = tf.data.Dataset.from_tensor_slices(daily_sales_numbers)\n",
    "tf_dataset"
   ]
  },
  {
   "cell_type": "code",
   "execution_count": 3,
   "id": "bc85a0f3",
   "metadata": {},
   "outputs": [
    {
     "name": "stdout",
     "output_type": "stream",
     "text": [
      "21\n",
      "22\n",
      "-108\n",
      "31\n",
      "-1\n",
      "32\n",
      "34\n",
      "31\n"
     ]
    },
    {
     "name": "stderr",
     "output_type": "stream",
     "text": [
      "2023-06-02 21:13:56.160580: I tensorflow/core/common_runtime/executor.cc:1197] [/device:CPU:0] (DEBUG INFO) Executor start aborting (this does not indicate an error and you can ignore this message): INVALID_ARGUMENT: You must feed a value for placeholder tensor 'Placeholder/_0' with dtype int32 and shape [8]\n",
      "\t [[{{node Placeholder/_0}}]]\n"
     ]
    }
   ],
   "source": [
    "for sales in tf_dataset:\n",
    "    print(sales.numpy())"
   ]
  },
  {
   "cell_type": "code",
   "execution_count": 4,
   "id": "eb66fcea",
   "metadata": {},
   "outputs": [
    {
     "name": "stdout",
     "output_type": "stream",
     "text": [
      "21\n",
      "22\n",
      "-108\n",
      "31\n",
      "-1\n",
      "32\n",
      "34\n",
      "31\n"
     ]
    }
   ],
   "source": [
    "# Iterate through elements as numpy elements\n",
    "\n",
    "for sales in tf_dataset.as_numpy_iterator():\n",
    "    print(sales)"
   ]
  },
  {
   "cell_type": "code",
   "execution_count": 5,
   "id": "10adc365",
   "metadata": {},
   "outputs": [
    {
     "name": "stdout",
     "output_type": "stream",
     "text": [
      "21\n",
      "22\n",
      "-108\n"
     ]
    },
    {
     "name": "stderr",
     "output_type": "stream",
     "text": [
      "2023-06-02 21:14:38.252378: I tensorflow/core/common_runtime/executor.cc:1197] [/device:CPU:0] (DEBUG INFO) Executor start aborting (this does not indicate an error and you can ignore this message): INVALID_ARGUMENT: You must feed a value for placeholder tensor 'Placeholder/_0' with dtype int32 and shape [8]\n",
      "\t [[{{node Placeholder/_0}}]]\n"
     ]
    }
   ],
   "source": [
    "# Iterate through first n elements in tf dataset\n",
    "\n",
    "for sales in tf_dataset.take(3):\n",
    "    print(sales.numpy())"
   ]
  },
  {
   "cell_type": "code",
   "execution_count": 6,
   "id": "41d67038",
   "metadata": {},
   "outputs": [
    {
     "name": "stdout",
     "output_type": "stream",
     "text": [
      "21\n",
      "22\n",
      "31\n",
      "32\n",
      "34\n",
      "31\n"
     ]
    },
    {
     "name": "stderr",
     "output_type": "stream",
     "text": [
      "2023-06-02 21:14:50.684020: I tensorflow/core/common_runtime/executor.cc:1197] [/device:CPU:0] (DEBUG INFO) Executor start aborting (this does not indicate an error and you can ignore this message): INVALID_ARGUMENT: You must feed a value for placeholder tensor 'Placeholder/_0' with dtype int32 and shape [8]\n",
      "\t [[{{node Placeholder/_0}}]]\n"
     ]
    }
   ],
   "source": [
    "# Filter sales numbers that are < 0\n",
    "\n",
    "tf_dataset = tf_dataset.filter(lambda x: x>0)\n",
    "for sales in tf_dataset.as_numpy_iterator():\n",
    "    print(sales)"
   ]
  },
  {
   "cell_type": "code",
   "execution_count": 7,
   "id": "685915e3",
   "metadata": {},
   "outputs": [
    {
     "name": "stdout",
     "output_type": "stream",
     "text": [
      "1722\n",
      "1804\n",
      "2542\n",
      "2624\n",
      "2788\n",
      "2542\n"
     ]
    },
    {
     "name": "stderr",
     "output_type": "stream",
     "text": [
      "2023-06-02 21:15:26.555885: I tensorflow/core/common_runtime/executor.cc:1197] [/device:CPU:0] (DEBUG INFO) Executor start aborting (this does not indicate an error and you can ignore this message): INVALID_ARGUMENT: You must feed a value for placeholder tensor 'Placeholder/_0' with dtype int32 and shape [8]\n",
      "\t [[{{node Placeholder/_0}}]]\n"
     ]
    }
   ],
   "source": [
    "# Convert sales numbers from USA dollars ($) to Indian Rupees (INR) Assuming 1->82 conversation rate\n",
    "\n",
    "tf_dataset = tf_dataset.map(lambda x: x*82)\n",
    "for sales in tf_dataset.as_numpy_iterator():\n",
    "    print(sales)"
   ]
  },
  {
   "cell_type": "code",
   "execution_count": 8,
   "id": "04a181e5",
   "metadata": {},
   "outputs": [
    {
     "name": "stdout",
     "output_type": "stream",
     "text": [
      "1804\n",
      "2542\n",
      "2624\n",
      "1722\n",
      "2788\n",
      "2542\n"
     ]
    },
    {
     "name": "stderr",
     "output_type": "stream",
     "text": [
      "2023-06-02 21:15:47.819855: I tensorflow/core/common_runtime/executor.cc:1197] [/device:CPU:0] (DEBUG INFO) Executor start aborting (this does not indicate an error and you can ignore this message): INVALID_ARGUMENT: You must feed a value for placeholder tensor 'Placeholder/_0' with dtype int32 and shape [8]\n",
      "\t [[{{node Placeholder/_0}}]]\n",
      "2023-06-02 21:15:47.822319: I tensorflow/core/common_runtime/executor.cc:1197] [/device:CPU:0] (DEBUG INFO) Executor start aborting (this does not indicate an error and you can ignore this message): INVALID_ARGUMENT: You must feed a value for placeholder tensor 'Placeholder/_0' with dtype int32 and shape [8]\n",
      "\t [[{{node Placeholder/_0}}]]\n"
     ]
    }
   ],
   "source": [
    "# Shuffle\n",
    "# https://stackoverflow.com/questions/53514495/what-does-batch-repeat-and-shuffle-do-with-tensorflow-dataset\n",
    "\n",
    "tf_dataset = tf_dataset.shuffle(2)\n",
    "for sales in tf_dataset.as_numpy_iterator():\n",
    "    print(sales)"
   ]
  },
  {
   "cell_type": "code",
   "execution_count": 9,
   "id": "60474e39",
   "metadata": {},
   "outputs": [
    {
     "name": "stdout",
     "output_type": "stream",
     "text": [
      "[1804 1722]\n",
      "[2624 2788]\n",
      "[2542 2542]\n"
     ]
    },
    {
     "name": "stderr",
     "output_type": "stream",
     "text": [
      "2023-06-02 21:16:05.094126: I tensorflow/core/common_runtime/executor.cc:1197] [/device:CPU:0] (DEBUG INFO) Executor start aborting (this does not indicate an error and you can ignore this message): INVALID_ARGUMENT: You must feed a value for placeholder tensor 'Placeholder/_0' with dtype int32 and shape [8]\n",
      "\t [[{{node Placeholder/_0}}]]\n",
      "2023-06-02 21:16:05.095023: I tensorflow/core/common_runtime/executor.cc:1197] [/device:CPU:0] (DEBUG INFO) Executor start aborting (this does not indicate an error and you can ignore this message): INVALID_ARGUMENT: You must feed a value for placeholder tensor 'Placeholder/_0' with dtype int32 and shape [8]\n",
      "\t [[{{node Placeholder/_0}}]]\n"
     ]
    }
   ],
   "source": [
    "# Batching\n",
    "\n",
    "for sales_batch in tf_dataset.batch(2):\n",
    "    print(sales_batch.numpy())"
   ]
  },
  {
   "cell_type": "code",
   "execution_count": 10,
   "id": "27151c52",
   "metadata": {},
   "outputs": [
    {
     "name": "stdout",
     "output_type": "stream",
     "text": [
      "[1512 1584]\n",
      "[2304 2232]\n",
      "[2448 2232]\n"
     ]
    },
    {
     "name": "stderr",
     "output_type": "stream",
     "text": [
      "2023-06-02 21:16:18.224895: I tensorflow/core/common_runtime/executor.cc:1197] [/device:CPU:0] (DEBUG INFO) Executor start aborting (this does not indicate an error and you can ignore this message): INVALID_ARGUMENT: You must feed a value for placeholder tensor 'Placeholder/_0' with dtype int32 and shape [8]\n",
      "\t [[{{node Placeholder/_0}}]]\n",
      "2023-06-02 21:16:18.225423: I tensorflow/core/common_runtime/executor.cc:1197] [/device:CPU:0] (DEBUG INFO) Executor start aborting (this does not indicate an error and you can ignore this message): INVALID_ARGUMENT: You must feed a value for placeholder tensor 'Placeholder/_0' with dtype int32 and shape [8]\n",
      "\t [[{{node Placeholder/_0}}]]\n"
     ]
    }
   ],
   "source": [
    "# Perform all of the above operations in one shot\n",
    "\n",
    "tf_dataset = tf.data.Dataset.from_tensor_slices(daily_sales_numbers)\n",
    "\n",
    "tf_dataset = tf_dataset.filter(lambda x: x>0).map(lambda y: y*72).shuffle(2).batch(2)\n",
    "for sales in tf_dataset.as_numpy_iterator():\n",
    "    print(sales)"
   ]
  },
  {
   "cell_type": "code",
   "execution_count": 12,
   "id": "68ff5d7b",
   "metadata": {},
   "outputs": [],
   "source": [
    "# Images\n",
    "\n",
    "images_ds = tf.data.Dataset.list_files('images/*/*', shuffle=False)"
   ]
  },
  {
   "cell_type": "code",
   "execution_count": 13,
   "id": "06d58e48",
   "metadata": {},
   "outputs": [
    {
     "data": {
      "text/plain": [
       "130"
      ]
     },
     "execution_count": 13,
     "metadata": {},
     "output_type": "execute_result"
    }
   ],
   "source": [
    "image_count = len(images_ds)\n",
    "image_count"
   ]
  },
  {
   "cell_type": "code",
   "execution_count": 14,
   "id": "0e70fc91",
   "metadata": {},
   "outputs": [
    {
     "data": {
      "text/plain": [
       "tensorflow.python.data.ops.from_tensor_slices_op._TensorSliceDataset"
      ]
     },
     "execution_count": 14,
     "metadata": {},
     "output_type": "execute_result"
    }
   ],
   "source": [
    "type(images_ds)"
   ]
  },
  {
   "cell_type": "code",
   "execution_count": 15,
   "id": "dc4695b2",
   "metadata": {},
   "outputs": [
    {
     "name": "stdout",
     "output_type": "stream",
     "text": [
      "b'images/cat/20 Reasons Why Cats Make the Best Pets....jpg'\n",
      "b'images/cat/7 Foods Your Cat Can_t Eat.jpg'\n",
      "b'images/cat/A cat appears to have caught the....jpg'\n"
     ]
    },
    {
     "name": "stderr",
     "output_type": "stream",
     "text": [
      "2023-06-02 21:21:27.833034: I tensorflow/core/common_runtime/executor.cc:1197] [/device:CPU:0] (DEBUG INFO) Executor start aborting (this does not indicate an error and you can ignore this message): INVALID_ARGUMENT: You must feed a value for placeholder tensor 'Placeholder/_0' with dtype string and shape [130]\n",
      "\t [[{{node Placeholder/_0}}]]\n"
     ]
    }
   ],
   "source": [
    "for file in images_ds.take(3):\n",
    "    print(file.numpy())"
   ]
  },
  {
   "cell_type": "code",
   "execution_count": 16,
   "id": "53d06fd2",
   "metadata": {},
   "outputs": [
    {
     "name": "stdout",
     "output_type": "stream",
     "text": [
      "b'images/dog/How to make your dog feel comfortable....jpg'\n",
      "b'images/dog/First dog Major back at White House....jpg'\n",
      "b'images/dog/Colitis in Dogs _ VCA Animal Hospital.jpg'\n"
     ]
    },
    {
     "name": "stderr",
     "output_type": "stream",
     "text": [
      "2023-06-02 21:21:47.520275: I tensorflow/core/common_runtime/executor.cc:1197] [/device:CPU:0] (DEBUG INFO) Executor start aborting (this does not indicate an error and you can ignore this message): INVALID_ARGUMENT: You must feed a value for placeholder tensor 'Placeholder/_0' with dtype string and shape [130]\n",
      "\t [[{{node Placeholder/_0}}]]\n",
      "2023-06-02 21:21:47.520778: I tensorflow/core/common_runtime/executor.cc:1197] [/device:CPU:0] (DEBUG INFO) Executor start aborting (this does not indicate an error and you can ignore this message): INVALID_ARGUMENT: You must feed a value for placeholder tensor 'Placeholder/_0' with dtype string and shape [130]\n",
      "\t [[{{node Placeholder/_0}}]]\n"
     ]
    }
   ],
   "source": [
    "images_ds = images_ds.shuffle(200)\n",
    "for file in images_ds.take(3):\n",
    "    print(file.numpy())"
   ]
  },
  {
   "cell_type": "code",
   "execution_count": 17,
   "id": "004fb321",
   "metadata": {},
   "outputs": [],
   "source": [
    "class_names = [\"cat\",\"dog\"]"
   ]
  },
  {
   "cell_type": "code",
   "execution_count": 18,
   "id": "7f99e4b0",
   "metadata": {},
   "outputs": [],
   "source": [
    "# tensorflow equivalent of train_test_split\n",
    "\n",
    "train_size = int(image_count*0.8)\n",
    "train_ds = images_ds.take(train_size)\n",
    "test_ds = images_ds.skip(train_size)"
   ]
  },
  {
   "cell_type": "code",
   "execution_count": 19,
   "id": "d26afe08",
   "metadata": {},
   "outputs": [],
   "source": [
    "def get_label(file_path):\n",
    "    import os\n",
    "    parts = tf.strings.split(file_path, os.path.sep)\n",
    "    return parts[-2] # indexing from backward"
   ]
  },
  {
   "cell_type": "code",
   "execution_count": 21,
   "id": "386efefd",
   "metadata": {},
   "outputs": [
    {
     "data": {
      "text/plain": [
       "<tf.Tensor: shape=(), dtype=string, numpy=b'dog'>"
      ]
     },
     "execution_count": 21,
     "metadata": {},
     "output_type": "execute_result"
    }
   ],
   "source": [
    "get_label(\"images/dog/20 Reasons Why Cats Make the Best Pets....jpg\")"
   ]
  },
  {
   "cell_type": "code",
   "execution_count": 22,
   "id": "d2b620a8",
   "metadata": {},
   "outputs": [],
   "source": [
    "def process_image(file_path):\n",
    "    label = get_label(file_path)\n",
    "    img = tf.io.read_file(file_path) # load the raw data from the file as a string\n",
    "    img = tf.image.decode_jpeg(img)\n",
    "    img = tf.image.resize(img, [128, 128])\n",
    "    return img, label"
   ]
  },
  {
   "cell_type": "code",
   "execution_count": 23,
   "id": "e3a3b21a",
   "metadata": {},
   "outputs": [
    {
     "data": {
      "text/plain": [
       "array([[[155.      , 186.      , 215.      ],\n",
       "        [156.      , 187.      , 216.      ],\n",
       "        [158.      , 189.      , 218.      ],\n",
       "        [160.0039  , 189.0039  , 219.0039  ],\n",
       "        [161.0039  , 190.0039  , 220.0039  ],\n",
       "        [162.      , 191.      , 221.      ],\n",
       "        [166.      , 193.      , 222.      ],\n",
       "        [167.      , 194.      , 223.      ],\n",
       "        [168.      , 195.      , 224.      ],\n",
       "        [169.      , 196.      , 225.      ],\n",
       "        [170.      , 197.      , 224.      ],\n",
       "        [170.0039  , 197.0039  , 224.0039  ],\n",
       "        [172.      , 199.      , 226.      ],\n",
       "        [173.0039  , 199.0039  , 224.0039  ],\n",
       "        [174.0039  , 200.0039  , 225.0039  ],\n",
       "        [175.0039  , 201.0039  , 226.0039  ],\n",
       "        [176.      , 202.      , 227.      ],\n",
       "        [177.0039  , 203.0039  , 228.0039  ],\n",
       "        [177.0039  , 203.0039  , 228.0039  ],\n",
       "        [179.0039  , 203.0039  , 227.0039  ],\n",
       "        [180.0039  , 204.0039  , 228.0039  ],\n",
       "        [180.0039  , 204.0039  , 228.0039  ],\n",
       "        [181.0039  , 206.0039  , 228.0039  ],\n",
       "        [182.0039  , 207.0039  , 229.0039  ],\n",
       "        [184.      , 209.      , 231.      ],\n",
       "        [184.      , 209.      , 231.      ],\n",
       "        [184.      , 209.      , 231.      ],\n",
       "        [184.      , 209.      , 231.      ],\n",
       "        [182.9961  , 207.9961  , 229.9961  ],\n",
       "        [174.9961  , 201.9961  , 222.9961  ],\n",
       "        [168.9961  , 195.9961  , 216.9961  ],\n",
       "        [158.99219 , 185.99219 , 206.99219 ],\n",
       "        [143.9961  , 168.9961  , 190.9961  ],\n",
       "        [131.9961  , 148.98828 , 168.98438 ],\n",
       "        [115.98828 , 126.97266 , 132.97266 ],\n",
       "        [106.98047 , 102.984375,  99.97656 ],\n",
       "        [ 98.99219 ,  95.984375,  90.98047 ],\n",
       "        [ 97.99219 ,  95.99219 ,  83.98828 ],\n",
       "        [ 97.99219 ,  91.99219 ,  77.99219 ],\n",
       "        [ 98.99609 ,  91.99609 ,  75.99609 ],\n",
       "        [ 99.      ,  92.      ,  74.      ],\n",
       "        [102.      ,  95.      ,  77.      ],\n",
       "        [112.99609 , 103.99609 ,  86.99609 ],\n",
       "        [125.99609 , 113.99609 ,  99.99609 ],\n",
       "        [133.99219 , 119.99219 , 108.99219 ],\n",
       "        [139.99219 , 127.99219 , 113.99219 ],\n",
       "        [143.9961  , 131.9961  , 117.99609 ],\n",
       "        [143.9961  , 131.9961  , 117.99609 ],\n",
       "        [142.      , 128.      , 119.      ],\n",
       "        [135.0039  , 122.00391 , 113.00391 ],\n",
       "        [122.00391 , 114.00391 , 103.00391 ],\n",
       "        [112.00391 , 103.00391 ,  94.00391 ],\n",
       "        [102.00391 ,  95.00391 ,  87.00391 ],\n",
       "        [ 91.      ,  86.      ,  80.      ],\n",
       "        [ 83.      ,  78.      ,  72.      ],\n",
       "        [ 75.00391 ,  70.00391 ,  64.00391 ],\n",
       "        [ 69.      ,  64.      ,  58.      ],\n",
       "        [ 61.      ,  58.      ,  51.      ],\n",
       "        [ 59.      ,  54.      ,  51.      ],\n",
       "        [ 61.996094,  52.996094,  55.996094],\n",
       "        [ 62.996094,  49.996094,  58.996094],\n",
       "        [ 61.      ,  49.      ,  53.      ],\n",
       "        [ 60.      ,  48.      ,  52.      ],\n",
       "        [ 59.      ,  47.      ,  51.      ],\n",
       "        [ 57.      ,  45.      ,  49.      ],\n",
       "        [ 55.      ,  45.      ,  44.      ],\n",
       "        [ 50.996094,  43.996094,  37.996094],\n",
       "        [ 45.996094,  42.996094,  35.996094],\n",
       "        [ 45.996094,  42.996094,  33.996094],\n",
       "        [ 45.      ,  43.      ,  31.      ],\n",
       "        [ 46.      ,  44.      ,  31.      ],\n",
       "        [ 48.      ,  46.      ,  33.      ],\n",
       "        [ 48.      ,  46.      ,  33.      ],\n",
       "        [ 49.003906,  47.003906,  34.003906],\n",
       "        [ 57.003906,  55.003906,  42.003906],\n",
       "        [ 63.007812,  61.007812,  48.007812],\n",
       "        [ 71.01172 ,  69.01172 ,  56.01172 ],\n",
       "        [ 75.01172 ,  73.01172 ,  61.01172 ],\n",
       "        [ 77.00781 ,  75.00781 ,  63.007812],\n",
       "        [ 78.00391 ,  76.00391 ,  64.00391 ],\n",
       "        [ 77.00391 ,  75.00391 ,  63.003906],\n",
       "        [ 74.00781 ,  72.00781 ,  59.007812],\n",
       "        [ 73.00391 ,  71.00391 ,  56.003906],\n",
       "        [ 77.00391 ,  71.00391 ,  55.003906],\n",
       "        [ 82.      ,  76.      ,  60.      ],\n",
       "        [ 85.00391 ,  79.00391 ,  63.003906],\n",
       "        [ 88.      ,  82.      ,  70.      ],\n",
       "        [ 88.      ,  81.      ,  71.      ],\n",
       "        [ 85.      ,  82.      ,  75.      ],\n",
       "        [ 83.      ,  80.      ,  73.      ],\n",
       "        [ 77.99609 ,  76.99609 ,  71.99609 ],\n",
       "        [ 74.99609 ,  73.99609 ,  69.99609 ],\n",
       "        [ 72.      ,  71.      ,  69.      ],\n",
       "        [ 70.      ,  69.      ,  65.      ],\n",
       "        [ 69.      ,  68.      ,  64.      ],\n",
       "        [ 69.      ,  68.      ,  64.      ],\n",
       "        [ 70.      ,  69.      ,  65.      ],\n",
       "        [ 71.      ,  70.      ,  66.      ],\n",
       "        [ 70.      ,  69.      ,  65.      ],\n",
       "        [ 69.99609 ,  68.99609 ,  66.99609 ],\n",
       "        [ 68.      ,  67.      ,  65.      ],\n",
       "        [ 66.      ,  65.      ,  63.      ],\n",
       "        [ 64.      ,  63.      ,  59.      ],\n",
       "        [ 63.      ,  62.      ,  58.      ],\n",
       "        [ 63.      ,  62.      ,  58.      ],\n",
       "        [ 65.      ,  64.      ,  60.      ],\n",
       "        [ 69.00391 ,  70.00391 ,  65.00391 ],\n",
       "        [ 78.00391 ,  78.00391 ,  69.99609 ],\n",
       "        [ 89.00781 ,  87.00781 ,  75.00781 ],\n",
       "        [103.00391 ,  97.00391 ,  83.00391 ],\n",
       "        [113.01172 , 106.01172 ,  90.01172 ],\n",
       "        [123.00781 , 114.00781 ,  97.00781 ],\n",
       "        [135.01172 , 124.01172 , 102.01172 ],\n",
       "        [144.00781 , 133.00781 , 111.00781 ],\n",
       "        [149.0039  , 138.0039  , 116.00391 ],\n",
       "        [149.00781 , 137.00781 , 111.00781 ],\n",
       "        [147.0039  , 135.0039  , 111.00391 ],\n",
       "        [145.0039  , 133.0039  , 111.00391 ],\n",
       "        [140.0039  , 127.00391 , 108.00391 ],\n",
       "        [130.0039  , 119.00391 , 101.00391 ],\n",
       "        [118.00391 , 108.00391 ,  96.00391 ],\n",
       "        [108.      , 100.      ,  89.      ],\n",
       "        [ 99.      ,  93.      ,  79.      ],\n",
       "        [ 96.99609 ,  90.99609 ,  76.99609 ],\n",
       "        [ 94.      ,  88.      ,  74.      ],\n",
       "        [ 90.99609 ,  84.99609 ,  72.99609 ],\n",
       "        [ 92.      ,  86.      ,  74.      ],\n",
       "        [ 93.      ,  87.      ,  75.      ]],\n",
       "\n",
       "       [[156.01172 , 187.01172 , 216.01172 ],\n",
       "        [157.02344 , 188.02344 , 217.02344 ],\n",
       "        [159.01172 , 190.01172 , 219.01172 ],\n",
       "        [162.      , 191.      , 221.      ],\n",
       "        [163.      , 192.      , 222.      ],\n",
       "        [164.01172 , 193.01172 , 223.01172 ],\n",
       "        [167.01172 , 194.01172 , 223.01172 ],\n",
       "        [168.01172 , 195.01172 , 224.01172 ],\n",
       "        [169.      , 196.      , 225.      ],\n",
       "        [170.01172 , 197.01172 , 226.01172 ],\n",
       "        [171.01172 , 198.01172 , 225.01172 ],\n",
       "        [172.      , 199.      , 226.      ],\n",
       "        [173.      , 200.      , 227.      ],\n",
       "        [175.      , 201.      , 226.      ],\n",
       "        [176.      , 202.      , 227.      ],\n",
       "        [177.      , 203.      , 228.      ],\n",
       "        [177.      , 203.      , 228.      ],\n",
       "        [178.98828 , 204.98828 , 229.98828 ],\n",
       "        [179.      , 205.      , 230.      ],\n",
       "        [181.      , 205.      , 229.      ],\n",
       "        [182.      , 206.      , 230.      ],\n",
       "        [182.      , 206.      , 230.      ],\n",
       "        [183.      , 208.      , 230.      ],\n",
       "        [184.      , 209.      , 231.      ],\n",
       "        [184.98828 , 209.98828 , 231.98828 ],\n",
       "        [184.97656 , 209.97656 , 231.97656 ],\n",
       "        [186.      , 207.98828 , 230.96484 ],\n",
       "        [185.      , 206.98828 , 229.96484 ],\n",
       "        [180.01172 , 202.      , 224.97656 ],\n",
       "        [173.01172 , 194.98828 , 218.98828 ],\n",
       "        [167.01172 , 186.98828 , 210.96484 ],\n",
       "        [154.02344 , 175.      , 193.97656 ],\n",
       "        [138.      , 158.97656 , 177.92969 ],\n",
       "        [125.98828 , 136.95312 , 142.91797 ],\n",
       "        [109.      , 105.98828 ,  98.96484 ],\n",
       "        [101.01172 ,  93.      ,  79.97656 ],\n",
       "        [ 99.03516 ,  91.02344 ,  78.      ],\n",
       "        [ 99.      ,  91.97656 ,  73.98828 ],\n",
       "        [ 98.97656 ,  90.97656 ,  77.97656 ],\n",
       "        [ 99.      ,  92.      ,  76.      ],\n",
       "        [ 99.      ,  92.      ,  74.      ],\n",
       "        [101.96484 ,  94.96484 ,  76.96484 ],\n",
       "        [109.98828 , 100.98828 ,  85.98828 ],\n",
       "        [120.01172 , 108.01172 ,  96.01172 ],\n",
       "        [131.01172 , 117.01172 , 108.01172 ],\n",
       "        [138.02344 , 126.01172 , 114.046875],\n",
       "        [143.      , 130.98828 , 119.02344 ],\n",
       "        [146.01172 , 134.      , 122.03516 ],\n",
       "        [144.02344 , 130.02344 , 121.02344 ],\n",
       "        [138.98828 , 125.98828 , 116.98828 ],\n",
       "        [128.01172 , 120.01172 , 109.01172 ],\n",
       "        [115.02344 , 106.02344 ,  97.02344 ],\n",
       "        [105.01172 ,  98.01172 ,  90.01172 ],\n",
       "        [ 92.98828 ,  87.98828 ,  81.98828 ],\n",
       "        [ 82.98828 ,  79.98828 ,  72.98828 ],\n",
       "        [ 76.      ,  73.      ,  66.      ],\n",
       "        [ 68.01172 ,  65.01172 ,  58.01172 ],\n",
       "        [ 61.      ,  58.      ,  51.      ],\n",
       "        [ 59.      ,  54.      ,  51.      ],\n",
       "        [ 60.023438,  51.023438,  54.023438],\n",
       "        [ 61.01172 ,  48.01172 ,  57.01172 ],\n",
       "        [ 60.      ,  48.      ,  52.      ],\n",
       "        [ 60.01172 ,  48.01172 ,  52.01172 ],\n",
       "        [ 59.      ,  47.      ,  51.      ],\n",
       "        [ 56.      ,  46.      ,  47.      ],\n",
       "        [ 53.98828 ,  45.98828 ,  42.98828 ],\n",
       "        [ 45.98828 ,  41.98828 ,  32.98828 ],\n",
       "        [ 42.98828 ,  40.      ,  30.964844],\n",
       "        [ 42.98828 ,  40.98828 ,  28.976562],\n",
       "        [ 43.98828 ,  41.98828 ,  28.964844],\n",
       "        [ 46.      ,  44.      ,  31.      ],\n",
       "        [ 48.035156,  46.035156,  33.035156],\n",
       "        [ 51.046875,  49.046875,  36.046875],\n",
       "        [ 58.046875,  56.046875,  43.046875],\n",
       "        [ 70.01172 ,  66.01172 ,  54.01172 ],\n",
       "        [ 76.03516 ,  72.03516 ,  60.035156],\n",
       "        [ 84.05859 ,  80.05859 ,  68.05859 ],\n",
       "        [ 87.03516 ,  85.03516 ,  73.03516 ],\n",
       "        [ 85.05859 ,  83.05859 ,  71.05859 ],\n",
       "        [ 86.02344 ,  84.02344 ,  72.02344 ],\n",
       "        [ 83.02344 ,  80.02344 ,  71.046875],\n",
       "        [ 81.01172 ,  79.      ,  67.03516 ],\n",
       "        [ 79.02344 ,  77.02344 ,  64.02344 ],\n",
       "        [ 83.01172 ,  77.01172 ,  63.035156],\n",
       "        [ 84.02344 ,  78.02344 ,  64.046875],\n",
       "        [ 88.      ,  82.      ,  68.02344 ],\n",
       "        [ 89.98828 ,  82.98828 ,  72.98828 ],\n",
       "        [ 90.01172 ,  83.01172 ,  73.01172 ],\n",
       "        [ 85.      ,  82.      ,  75.      ],\n",
       "        [ 83.      ,  80.      ,  73.      ],\n",
       "        [ 76.      ,  75.      ,  70.      ],\n",
       "        [ 73.01172 ,  72.01172 ,  68.01172 ],\n",
       "        [ 71.      ,  70.      ,  68.      ],\n",
       "        [ 70.      ,  69.      ,  65.      ],\n",
       "        [ 69.      ,  68.      ,  64.      ],\n",
       "        [ 69.      ,  68.      ,  64.      ],\n",
       "        [ 69.      ,  68.      ,  64.      ],\n",
       "        [ 69.98828 ,  68.98828 ,  64.98828 ],\n",
       "        [ 69.      ,  68.      ,  64.      ],\n",
       "        [ 67.98828 ,  66.98828 ,  62.98828 ],\n",
       "        [ 66.98828 ,  65.98828 ,  61.98828 ],\n",
       "        [ 64.98828 ,  63.98828 ,  59.98828 ],\n",
       "        [ 63.      ,  62.      ,  58.      ],\n",
       "        [ 62.      ,  61.      ,  57.      ],\n",
       "        [ 63.      ,  62.      ,  58.      ],\n",
       "        [ 65.02344 ,  64.02344 ,  60.023438],\n",
       "        [ 72.03516 ,  71.01172 ,  65.98828 ],\n",
       "        [ 83.02344 ,  80.01172 ,  70.98828 ],\n",
       "        [ 96.03516 ,  92.01172 ,  79.98828 ],\n",
       "        [112.03516 , 106.02344 ,  90.02344 ],\n",
       "        [127.02344 , 118.03516 , 101.01172 ],\n",
       "        [135.0586  , 127.02344 , 108.03516 ],\n",
       "        [145.98828 , 134.98828 , 112.98828 ],\n",
       "        [150.98828 , 139.98828 , 117.98828 ],\n",
       "        [152.01172 , 141.01172 , 119.01172 ],\n",
       "        [150.98828 , 139.01172 , 115.      ],\n",
       "        [144.98828 , 133.      , 111.      ],\n",
       "        [143.98828 , 131.01172 , 112.      ],\n",
       "        [139.98828 , 128.98828 , 110.98828 ],\n",
       "        [130.97656 , 119.01172 , 103.02344 ],\n",
       "        [118.98828 , 110.98828 ,  99.98828 ],\n",
       "        [107.96484 , 100.96484 ,  90.96484 ],\n",
       "        [ 96.97656 ,  92.97656 ,  82.      ],\n",
       "        [ 92.01172 ,  88.01172 ,  77.03516 ],\n",
       "        [ 89.98828 ,  85.98828 ,  75.01172 ],\n",
       "        [ 86.98828 ,  82.97656 ,  74.01172 ],\n",
       "        [ 89.97656 ,  85.96484 ,  77.      ],\n",
       "        [ 91.      ,  86.98828 ,  78.02344 ]]], dtype=float32)"
      ]
     },
     "execution_count": 23,
     "metadata": {},
     "output_type": "execute_result"
    }
   ],
   "source": [
    "img, label = process_image(\"images/cat/20 Reasons Why Cats Make the Best Pets....jpg\")\n",
    "img.numpy()[:2]"
   ]
  },
  {
   "cell_type": "code",
   "execution_count": 24,
   "id": "99e357cd",
   "metadata": {},
   "outputs": [],
   "source": [
    "train_ds = train_ds.map(process_image)\n",
    "test_ds = test_ds.map(process_image)"
   ]
  },
  {
   "cell_type": "code",
   "execution_count": 25,
   "id": "d1a80777",
   "metadata": {
    "scrolled": true
   },
   "outputs": [
    {
     "name": "stdout",
     "output_type": "stream",
     "text": [
      "**** tf.Tensor(\n",
      "[[[162.      163.      157.     ]\n",
      "  [164.      165.      159.     ]\n",
      "  [163.      164.      158.     ]\n",
      "  ...\n",
      "  [173.      174.      168.     ]\n",
      "  [175.      176.      170.     ]\n",
      "  [173.      174.      168.     ]]\n",
      "\n",
      " [[161.      162.      156.     ]\n",
      "  [164.      165.      159.     ]\n",
      "  [164.      165.      159.     ]\n",
      "  ...\n",
      "  [173.      174.      168.     ]\n",
      "  [174.      175.      169.     ]\n",
      "  [174.      175.      169.     ]]\n",
      "\n",
      " [[163.      164.      158.     ]\n",
      "  [163.      164.      158.     ]\n",
      "  [164.      165.      159.     ]\n",
      "  ...\n",
      "  [175.      176.      170.     ]\n",
      "  [174.      175.      169.     ]\n",
      "  [174.      175.      169.     ]]\n",
      "\n",
      " ...\n",
      "\n",
      " [[107.1875   81.1875   90.1875 ]\n",
      "  [ 29.40625  10.40625  14.40625]\n",
      "  [ 39.59375  19.59375  21.59375]\n",
      "  ...\n",
      "  [ 59.59375  73.59375  50.59375]\n",
      "  [ 57.40625  70.40625  44.40625]\n",
      "  [ 54.       68.       42.     ]]\n",
      "\n",
      " [[ 61.625    35.625    44.625  ]\n",
      "  [ 48.53125  29.53125  33.53125]\n",
      "  [ 43.53125  23.53125  25.53125]\n",
      "  ...\n",
      "  [ 55.15625  69.15625  46.15625]\n",
      "  [ 58.15625  71.15625  45.15625]\n",
      "  [ 64.       78.       52.     ]]\n",
      "\n",
      " [[ 69.       44.       50.     ]\n",
      "  [ 84.       55.       60.     ]\n",
      "  [ 79.125    50.125    55.125  ]\n",
      "  ...\n",
      "  [ 48.71875  57.71875  38.71875]\n",
      "  [ 53.71875  65.71875  41.71875]\n",
      "  [ 71.5625   91.5625   64.5625 ]]], shape=(128, 128, 3), dtype=float32)\n",
      "**** tf.Tensor(b'dog', shape=(), dtype=string)\n"
     ]
    },
    {
     "name": "stderr",
     "output_type": "stream",
     "text": [
      "2023-06-02 21:25:11.330159: I tensorflow/core/common_runtime/executor.cc:1197] [/device:CPU:0] (DEBUG INFO) Executor start aborting (this does not indicate an error and you can ignore this message): INVALID_ARGUMENT: You must feed a value for placeholder tensor 'Placeholder/_0' with dtype string and shape [130]\n",
      "\t [[{{node Placeholder/_0}}]]\n",
      "2023-06-02 21:25:11.330665: I tensorflow/core/common_runtime/executor.cc:1197] [/device:CPU:0] (DEBUG INFO) Executor start aborting (this does not indicate an error and you can ignore this message): INVALID_ARGUMENT: You must feed a value for placeholder tensor 'Placeholder/_0' with dtype string and shape [130]\n",
      "\t [[{{node Placeholder/_0}}]]\n"
     ]
    }
   ],
   "source": [
    "for image, label in train_ds.take(1):\n",
    "    print(\"****\",image)\n",
    "    print(\"****\",label)"
   ]
  },
  {
   "cell_type": "code",
   "execution_count": 26,
   "id": "a4f54e2f",
   "metadata": {},
   "outputs": [],
   "source": [
    "def scale(image, label):\n",
    "    return image/255, label"
   ]
  },
  {
   "cell_type": "code",
   "execution_count": 27,
   "id": "c9fcdec6",
   "metadata": {},
   "outputs": [],
   "source": [
    "train_ds = train_ds.map(scale)"
   ]
  },
  {
   "cell_type": "code",
   "execution_count": 28,
   "id": "490ef5e3",
   "metadata": {},
   "outputs": [
    {
     "name": "stdout",
     "output_type": "stream",
     "text": [
      "****Image:  [0.860769   0.79018074 0.6960631 ]\n",
      "****Label:  b'dog'\n",
      "****Image:  [0.08627451 0.08627451 0.08627451]\n",
      "****Label:  b'dog'\n",
      "****Image:  [0.1171492  0.15121017 0.16689645]\n",
      "****Label:  b'cat'\n",
      "****Image:  [0.6059436  0.5353554  0.45692402]\n",
      "****Label:  b'dog'\n",
      "****Image:  [0.3577304 0.6239124 0.4327638]\n",
      "****Label:  b'dog'\n"
     ]
    },
    {
     "name": "stderr",
     "output_type": "stream",
     "text": [
      "2023-06-02 21:27:56.587243: I tensorflow/core/common_runtime/executor.cc:1197] [/device:CPU:0] (DEBUG INFO) Executor start aborting (this does not indicate an error and you can ignore this message): INVALID_ARGUMENT: You must feed a value for placeholder tensor 'Placeholder/_0' with dtype string and shape [130]\n",
      "\t [[{{node Placeholder/_0}}]]\n",
      "2023-06-02 21:27:56.588257: I tensorflow/core/common_runtime/executor.cc:1197] [/device:CPU:0] (DEBUG INFO) Executor start aborting (this does not indicate an error and you can ignore this message): INVALID_ARGUMENT: You must feed a value for placeholder tensor 'Placeholder/_0' with dtype string and shape [130]\n",
      "\t [[{{node Placeholder/_0}}]]\n"
     ]
    }
   ],
   "source": [
    "for image, label in train_ds.take(5):\n",
    "    print(\"****Image: \",image.numpy()[0][0])\n",
    "    print(\"****Label: \",label.numpy())"
   ]
  },
  {
   "cell_type": "code",
   "execution_count": null,
   "id": "28092a8f",
   "metadata": {},
   "outputs": [],
   "source": []
  }
 ],
 "metadata": {
  "kernelspec": {
   "display_name": "Python 3 (ipykernel)",
   "language": "python",
   "name": "python3"
  },
  "language_info": {
   "codemirror_mode": {
    "name": "ipython",
    "version": 3
   },
   "file_extension": ".py",
   "mimetype": "text/x-python",
   "name": "python",
   "nbconvert_exporter": "python",
   "pygments_lexer": "ipython3",
   "version": "3.11.1"
  }
 },
 "nbformat": 4,
 "nbformat_minor": 5
}
